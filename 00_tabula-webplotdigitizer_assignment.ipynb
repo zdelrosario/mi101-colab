{
 "cells": [
  {
   "cell_type": "markdown",
   "id": "32733113",
   "metadata": {},
   "source": [
    "(00-extraction)=\n",
    "# Day 1 (Live) Data Extraction and Management\n",
    "\n",
    "*Author*: Zach del Rosario\n",
    "\n",
    "### Learning outcomes\n",
    "\n",
    "By working through this exercise, you will be able to:\n",
    "\n",
    "- Prevent future data headaches by carefully *planning* your data recording scheme\n",
    "- Extract data from tables in published documents with Tabula\n",
    "- Liberate data from graphs with WebPlotDigitizer\n"
   ]
  },
  {
   "cell_type": "code",
   "execution_count": null,
   "id": "a38958e0",
   "metadata": {
    "tags": [
     "hide-cell"
    ]
   },
   "outputs": [],
   "source": [
    "import numpy as np\n",
    "import pandas as pd\n",
    "import grama as gr\n",
    "\n",
    "DF = gr.Intention()\n"
   ]
  },
  {
   "cell_type": "markdown",
   "id": "5bfc6949",
   "metadata": {},
   "source": [
    "## Planning Data Recording\n",
    "\n",
    "---\n",
    "\n",
    "Perhaps the best way to ensure high-quality data is to carefully decide how to *record* your data before you start collecting it.\n"
   ]
  },
  {
   "cell_type": "markdown",
   "id": "061b25a3",
   "metadata": {},
   "source": [
    "### Example 1: Poor data planning\n",
    "\n",
    "| Run | Observation |\n",
    "|-----|-------------|\n",
    "|  1  | It worked   |\n",
    "|  2  | It failed   |\n",
    "|  3  | It worked   |\n",
    "\n",
    "### Q1: Suppose you were reviewing data in this form; would you be able to answer the following questions? Why or why not?\n",
    "\n",
    "- How many observations were collected?\n",
    "- What were the experimental settings for each observation?\n",
    "- Were all of the planned experiments run?\n",
    "- What would you do to resolve the issue with Observation 2?\n"
   ]
  },
  {
   "cell_type": "markdown",
   "id": "989e8bbf",
   "metadata": {},
   "source": [
    "### Example 2: More details\n",
    "\n",
    "| Run |  Knob A | Knob B | Recorded Value | Notes |\n",
    "|-----|---------|--------|----------------|-------|\n",
    "|  1  | 1.0 m/s | 2.3 kg | 1.6 eV         |       |\n",
    "|  2  | 1.0 mph | 10.0 g | NA   | Sample did not survive characterization |\n",
    "|  3  | 0.5 mph | 50.0 g | 1e-17 J        |       |\n",
    "\n",
    "### Q2: Suppose you were reviewing data in this form; would you be able to answer the following questions? Why or why not?\n",
    "\n",
    "- What were the experimental settings for each observation?\n",
    "- How do the experimental settings compare for each observation?\n",
    "- Were all of the planned experiments run?\n",
    "- What would you do to resolve the issue with Observation 2?\n"
   ]
  },
  {
   "cell_type": "markdown",
   "id": "599068e4",
   "metadata": {},
   "source": [
    "### Example 3: Even Better\n",
    "\n",
    "| Run |  Knob A (m/s) | Knob B (g) | Recorded Value (eV) | Date | Notes |\n",
    "|-----|---------------|------------|---------------------|------|-------|\n",
    "| 1 / 2 |    1.00 |  2.3e3 | 1.60          | 2021-08-11 | - |\n",
    "| 2 / 2 |    0.45 |  2.0e1 | NA   | 2021-08-11 | Sample did not survive characterization |\n",
    "| 1 / 1 |    0.22 |  5.0e1 | 62.42          | 2021-08-12 | - |\n",
    "\n",
    "### Q3: Suppose you were reviewing data in this form; would you be able to answer the following questions? Why or why not?\n",
    "\n",
    "- How do the experimental settings compare for each observation?\n",
    "- Were all of the planned experiments run?\n"
   ]
  },
  {
   "cell_type": "markdown",
   "id": "13911f11",
   "metadata": {},
   "source": [
    "### Further reading\n",
    "\n",
    "[Broman and Woo](https://www.tandfonline.com/doi/full/10.1080/00031305.2017.1375989) have further suggestions on data organization.\n"
   ]
  },
  {
   "cell_type": "markdown",
   "id": "543797c6",
   "metadata": {},
   "source": [
    "## Tabula: Extracting tables from documents\n",
    "\n",
    "---\n",
    "\n",
    "*Background*: [Tabula](https://tabula.technology/) is a piece of software developed for journalists carrying out investigative reporting. It was developed with support from organizations like [ProPublica](http://propublica.org/) and [The New York Times](http://www.nytimes.com/). This tool is meant to help investigators parse unwieldy PDFs and liberate useful information.\n",
    "\n",
    "### Q4 Download and install [Tabula](https://tabula.technology/); the webpage has installation instructions.\n",
    "\n",
    "*Note*: Tabula's interface is through a locally-hosted server; it should automatically open a browser window for Tabula. If it does not, then open [http://localhost:8080/](http://localhost:8080/) after you've launched Tabula.\n"
   ]
  },
  {
   "cell_type": "markdown",
   "id": "b6d21504",
   "metadata": {},
   "source": [
    "### Q5 Download [this example PDF](https://github.com/zdelrosario/mi101/blob/main/mi101/data/weibull1939-table4.pdf) and import it into Tabula for data extraction.\n",
    "\n",
    "![Tabula's interface: Click `Browse` to find the example PDF](../images/tabula-front.png)\n",
    "\n",
    "Click `Browse` to find the example PDF, click `Import` to load the file into Tabula, then click `Extract Data` to enter the data extraction interface.\n"
   ]
  },
  {
   "cell_type": "markdown",
   "id": "02f8840b",
   "metadata": {},
   "source": [
    "### Q6 Enter the Extraction menu, and drag-select a box to target the table of data.\n",
    "\n",
    "![Tabula's interface: Click and drag to draw a box around the data you want to extract](../images/tabula-select.png)\n",
    "\n",
    "Click and drag to draw a box around the data you want to extract. Make sure to exclude the Table title, and any other non-data text.\n"
   ]
  },
  {
   "cell_type": "markdown",
   "id": "3ca9b45d",
   "metadata": {},
   "source": [
    "### Q7 Once selected, click `Preview & Export Extracted Data`.\n",
    "\n",
    "![Tabula's interface: View of selected region for data extraction](../images/tabula-selected.png)\n",
    "\n",
    "\n"
   ]
  },
  {
   "cell_type": "markdown",
   "id": "23002ff2",
   "metadata": {},
   "source": [
    "### Q8 Choose between `Stream` and `Lattice` options to help Tabula extract the data correctly.\n",
    "\n",
    "![Tabula's interface: View of selected region for data extraction](../images/tabula-preview-stream.png)\n",
    "\n",
    "The `Stream` option looks for whitespace, while the `Lattice` option looks for vertical and horizontal bars that denote data entries. For this case, both options work fine.\n"
   ]
  },
  {
   "cell_type": "markdown",
   "id": "eef996aa",
   "metadata": {},
   "source": [
    "### Q9 Once satisfied, click `Export` to download the data.\n",
    "\n",
    "Once you finish this, you should have access to a CSV that looks like the following:\n",
    "\n",
    "| No.|Area mm^2|sigma_d kg/mm^2|No.|Area mm^2|sigma_d kg/mm^2|\n",
    "|----|---------|---------------|---|---------|---------------|\n",
    "|  1 |    21.50|           0.61| 14|    23.10|           0.58|\n",
    "|  2 |    22.31|           0.60| 15|    21.91|           0.62|\n",
    "|  3 |    23.00|           0.50| 16|    23.23|           0.50|\n",
    "|  4 |    14.18|           0.63| 17|    25.80|           0.50|\n",
    "|  5 |    22.03|           0.48| 18|    20.68|           0.52|\n",
    "|  6 |    22.79|           0.60| 19|    15.90|           0.59|\n",
    "|  7 |    28.88|           0.56| 20|    16.47|           0.50|\n",
    "|  8 |    17.79|           0.59| 21|    18.75|           0.54|\n",
    "|  9 |    23.60|           0.60| 22|    17.91|           0.55|\n",
    "| 10 |    23.60|           0.52| 23|    25.55|           0.50|\n",
    "| 11 |    28.51|           0.57| 24|    22.03|           0.48|\n",
    "| 12 |    25.93|           0.55| 25|    20.96|           0.47|\n",
    "| 13 |    22.97|           0.59|   |         |               |\n",
    "\n",
    "These data are not *quite* ready for informatics tools (they're not [tidy](https://cran.r-project.org/web/packages/tidyr/vignettes/tidy-data.html)), but at least we didn't have to type all these digits by hand! We'll see in a future part of the workshop how to *reshape* this dataset into a more usable format.\n"
   ]
  },
  {
   "cell_type": "markdown",
   "id": "649b8511",
   "metadata": {},
   "source": [
    "### Important caveat! Image-based PDF's.\n",
    "\n",
    "Tabula tends to work best with more modern, fully-digital documents. For PDF's of older documents, you might get the following:\n",
    "\n",
    "![Tabula's warning of an image-based PDF](../images/tabula-warning.png)\n",
    "\n",
    "This means the PDF doesn't have any digitized text in it; it's just a scan of an old document. The `Help` tab in Tabula gives some suggestions on things you can try; for instance, the help page links to *optical character recognition* (OCR) machine learning tools you can use to pre-process an image into text data, which you can then treat with Tabula.\n"
   ]
  },
  {
   "cell_type": "markdown",
   "id": "2917a199",
   "metadata": {},
   "source": [
    "## WebPlotDigitizer: Liberating data from images\n",
    "\n",
    "---\n",
    "\n",
    "Sometimes data are messy---we'll learn how to deal with that later in the workshop. Other times data are \"locked up\" in a format we can't easily analyze, such as in an image. In this exercise you'll learn how to *liberate* data from a plot using WebPlotDigitizer.\n",
    "\n",
    "*Note*: I originally extracted these data from an [Economist](https://www.economist.com/graphic-detail/2020/05/13/the-spread-of-covid-has-caused-a-surge-in-american-meat-prices) article on American meat prices and production in 2020.\n"
   ]
  },
  {
   "cell_type": "markdown",
   "id": "a01a62fe",
   "metadata": {},
   "source": [
    "### Q10 Go to the [WebPlotDigitizer](https://automeris.io/WebPlotDigitizer/) website and download the desktop version (matching your operating system). Launch the program.\n",
    "\n",
    "*Note*: On Mac OS X you may have to open `Security & Privacy` in order to launch WebPlotDigitizer on your machine.\n"
   ]
  },
  {
   "cell_type": "markdown",
   "id": "19ecb575",
   "metadata": {},
   "source": [
    "### Q11 Extract the data from the following image:\n",
    "\n",
    "![Beef production](../images/beef_production.png)\n",
    "\n",
    "You can click [this link](https://raw.githubusercontent.com/zdelrosario/mi101/main/mi101/images/beef_production.png) to download the image. This image shows the percent change in US beef production as reported in this [Economist](https://www.economist.com/graphic-detail/2020/05/13/the-spread-of-covid-has-caused-a-surge-in-american-meat-prices) article. We'll go through extraction step-by-step:"
   ]
  },
  {
   "cell_type": "markdown",
   "id": "1f01681b",
   "metadata": {},
   "source": [
    "Click the `Load Image(s)` button, and select the beef production image you downloaded. \n",
    "\n",
    "![Load image](../images/e-data14-load-image.png)"
   ]
  },
  {
   "cell_type": "markdown",
   "id": "d7f18f93",
   "metadata": {},
   "source": [
    "Choose the `2D (X-Y) Plot` type.\n",
    "\n",
    "![Load image](../images/e-data14-plot-type.png)"
   ]
  },
  {
   "cell_type": "markdown",
   "id": "d50f267c",
   "metadata": {},
   "source": [
    "Make sure to *read these instructions*!\n",
    "\n",
    "![Load image](../images/e-data14-xy-instructions.png)"
   ]
  },
  {
   "cell_type": "markdown",
   "id": "0b55aafc",
   "metadata": {},
   "source": [
    "Place the four control points; it doesn't matter what *precise* values you pick, just that you know the X values for the first two, and the Y values for the second two.\n",
    "\n",
    "*Note*: Once you've placed a single point, you can use the arrow keys on your keyboard to make *micro adjustments* to the point; this means *you don't have to be super-accurate* with your mouse. Use this to your advantage!\n",
    "\n",
    "![Load image](../images/e-data14-xy-locations.png)"
   ]
  },
  {
   "cell_type": "markdown",
   "id": "2ee99bff",
   "metadata": {},
   "source": [
    "*Calibrate* the axes by entering the X and Y values you placed. Note that you can give decimals, dates, times, or exponents.\n",
    "\n",
    "![Load image](../images/e-data14-xy-calibrate.png)"
   ]
  },
  {
   "cell_type": "markdown",
   "id": "2d8ca717",
   "metadata": {},
   "source": [
    "Now that you have a set of axes, you can *extract* the data. This plot is fairly high-contrast, so we can use the *Automatic Extraction* tools. Click on the `Box` setting, and select the foreground color to match the color of the data curve (in this case, black).\n",
    "\n",
    "![Load image](../images/e-data14-automatic-box.png)"
   ]
  },
  {
   "cell_type": "markdown",
   "id": "cf6608cf",
   "metadata": {},
   "source": [
    "Once you've selected the box tool, draw a rectangle over an area containing the data. Note that if you cover the labels, the algorithm will try to extract those too!\n",
    "\n",
    "![Load image](../images/e-data14-drawn-box.png)"
   ]
  },
  {
   "cell_type": "markdown",
   "id": "2e7c6830",
   "metadata": {},
   "source": [
    "Click the `Run` button; you should see red dots covering the data curve.\n",
    "\n",
    "![Load image](../images/e-data14-extracted.png)"
   ]
  },
  {
   "cell_type": "markdown",
   "id": "0abfebb2",
   "metadata": {},
   "source": [
    "9. Now you can save the data to a file; make sure the dataset is selected (highlighted in orange) and click the `View Data` button.\n",
    "\n",
    "![Load image](../images/e-data14-view-data.png)"
   ]
  },
  {
   "cell_type": "markdown",
   "id": "f0ddd576",
   "metadata": {},
   "source": [
    "Click the `Download .CSV` button and give the file a sensible name.\n",
    "\n",
    "![Load image](../images/e-data14-download.png)"
   ]
  },
  {
   "cell_type": "markdown",
   "id": "ce114d98",
   "metadata": {},
   "source": [
    "Congrats! You just *liberated* data from a plot! This was a somewhat whimsical example, but you can use WebPlotDigitizer to liberate data from *any* plot: A screencap from proprietary software, an image in a journal article that doesn't report the raw data, and so on. I recommend you watch the [WebPlotDigitizer tutorial video](https://youtu.be/P7GbGdMvopU) ~ 19 minutes. (I recommend you give this a watch if you want some inspiration on other use cases: There are a lot of very clever ways to use this tool!)"
   ]
  },
  {
   "cell_type": "markdown",
   "id": "99d0d213",
   "metadata": {},
   "source": [
    "# Survey\n",
    "\n",
    "---\n",
    "\n",
    "Once you complete this activity, please fill out the following 30-second survey:\n",
    "\n",
    "> [Survey link](https://forms.gle/9AaMjUbVM6nN24Eb6)"
   ]
  }
 ],
 "metadata": {
  "kernelspec": {
   "display_name": "Python 3 (ipykernel)",
   "language": "python",
   "name": "python3"
  },
  "language_info": {
   "codemirror_mode": {
    "name": "ipython",
    "version": 3
   },
   "file_extension": ".py",
   "mimetype": "text/x-python",
   "name": "python",
   "nbconvert_exporter": "python",
   "pygments_lexer": "ipython3",
   "version": "3.7.4"
  }
 },
 "nbformat": 4,
 "nbformat_minor": 5
}
